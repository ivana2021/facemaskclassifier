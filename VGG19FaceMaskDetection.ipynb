{
 "cells": [
  {
   "cell_type": "code",
   "execution_count": 1,
   "metadata": {},
   "outputs": [
    {
     "name": "stdout",
     "output_type": "stream",
     "text": [
      "2.3.0\n"
     ]
    }
   ],
   "source": [
    "from keras.preprocessing.image import ImageDataGenerator, load_img\n",
    "from keras.models import Sequential\n",
    "from keras.layers import Conv2D, MaxPooling2D\n",
    "from keras.layers import Activation, Dropout, Flatten, Dense\n",
    "from keras import backend as K\n",
    "\n",
    "\n",
    "from keras.models import load_model\n",
    "from keras.preprocessing import image\n",
    "import numpy as np\n",
    "from os import listdir\n",
    "from os.path import isfile, join\n",
    "\n",
    "import pandas as pd\n",
    "import IPython.display as display\n",
    "import tensorflow as tf\n",
    "from tensorflow.keras import layers\n",
    "import numpy as np\n",
    "import os,random\n",
    "import matplotlib.pyplot as plt\n",
    "print(tf.__version__)"
   ]
  },
  {
   "cell_type": "code",
   "execution_count": 2,
   "metadata": {},
   "outputs": [],
   "source": [
    "img_width = 32\n",
    "img_height = 32\n",
    "\n",
    "train_data_dir = 'facemask801010/train'\n",
    "validation_data_dir = 'facemask801010/validation'\n",
    "test_data_dir = 'facemask801010/test'\n",
    "train_samples = 800\n",
    "validation_samples = 100\n",
    "epochs=10\n",
    "batch_size = 8\n",
    "# Check for TensorFlow or Thieno\n",
    "if K.image_data_format() == 'channels_first':\n",
    "    input_shape = (3, img_width, img_height)\n",
    "else:\n",
    "    input_shape = (img_width, img_height, 3)"
   ]
  },
  {
   "cell_type": "code",
   "execution_count": 3,
   "metadata": {},
   "outputs": [],
   "source": [
    "train_datagen = ImageDataGenerator(\n",
    "    rescale=1. / 255)"
   ]
  },
  {
   "cell_type": "code",
   "execution_count": 4,
   "metadata": {},
   "outputs": [
    {
     "name": "stdout",
     "output_type": "stream",
     "text": [
      "Found 800 images belonging to 2 classes.\n"
     ]
    }
   ],
   "source": [
    "train_generator = train_datagen.flow_from_directory(\n",
    "    train_data_dir,\n",
    "    target_size=(img_width, img_height),\n",
    "    batch_size=batch_size,shuffle=False,\n",
    "    class_mode='binary')"
   ]
  },
  {
   "cell_type": "code",
   "execution_count": 5,
   "metadata": {},
   "outputs": [],
   "source": [
    "test_datagen = ImageDataGenerator(rescale=1. / 255)"
   ]
  },
  {
   "cell_type": "code",
   "execution_count": 6,
   "metadata": {},
   "outputs": [
    {
     "name": "stdout",
     "output_type": "stream",
     "text": [
      "Found 100 images belonging to 2 classes.\n"
     ]
    }
   ],
   "source": [
    "test_generator = train_datagen.flow_from_directory(\n",
    "    test_data_dir,\n",
    "    target_size=(img_width, img_height),shuffle=False,\n",
    "    class_mode='binary')"
   ]
  },
  {
   "cell_type": "code",
   "execution_count": 7,
   "metadata": {},
   "outputs": [
    {
     "name": "stdout",
     "output_type": "stream",
     "text": [
      "Found 100 images belonging to 2 classes.\n"
     ]
    }
   ],
   "source": [
    "validation_generator = test_datagen.flow_from_directory(\n",
    "    validation_data_dir,\n",
    "    target_size=(img_width, img_height),\n",
    "    batch_size=batch_size,shuffle=False,\n",
    "    class_mode='binary')"
   ]
  },
  {
   "cell_type": "code",
   "execution_count": 8,
   "metadata": {},
   "outputs": [
    {
     "ename": "ModuleNotFoundError",
     "evalue": "No module named 'skimage'",
     "output_type": "error",
     "traceback": [
      "\u001b[1;31m---------------------------------------------------------------------------\u001b[0m",
      "\u001b[1;31mModuleNotFoundError\u001b[0m                       Traceback (most recent call last)",
      "\u001b[1;32m<ipython-input-8-866dcbe6a3a6>\u001b[0m in \u001b[0;36m<module>\u001b[1;34m\u001b[0m\n\u001b[1;32m----> 1\u001b[1;33m \u001b[1;32mfrom\u001b[0m \u001b[0mskimage\u001b[0m \u001b[1;32mimport\u001b[0m \u001b[0mio\u001b[0m\u001b[1;33m\u001b[0m\u001b[1;33m\u001b[0m\u001b[0m\n\u001b[0m\u001b[0;32m      2\u001b[0m \u001b[1;33m\u001b[0m\u001b[0m\n\u001b[0;32m      3\u001b[0m \u001b[1;32mdef\u001b[0m \u001b[0mimshow\u001b[0m\u001b[1;33m(\u001b[0m\u001b[0mimage_RGB\u001b[0m\u001b[1;33m)\u001b[0m\u001b[1;33m:\u001b[0m\u001b[1;33m\u001b[0m\u001b[1;33m\u001b[0m\u001b[0m\n\u001b[0;32m      4\u001b[0m   \u001b[0mio\u001b[0m\u001b[1;33m.\u001b[0m\u001b[0mimshow\u001b[0m\u001b[1;33m(\u001b[0m\u001b[0mimage_RGB\u001b[0m\u001b[1;33m)\u001b[0m\u001b[1;33m\u001b[0m\u001b[1;33m\u001b[0m\u001b[0m\n\u001b[0;32m      5\u001b[0m   \u001b[0mio\u001b[0m\u001b[1;33m.\u001b[0m\u001b[0mshow\u001b[0m\u001b[1;33m(\u001b[0m\u001b[1;33m)\u001b[0m\u001b[1;33m\u001b[0m\u001b[1;33m\u001b[0m\u001b[0m\n",
      "\u001b[1;31mModuleNotFoundError\u001b[0m: No module named 'skimage'"
     ]
    }
   ],
   "source": [
    "from skimage import io\n",
    "\n",
    "def imshow(image_RGB):\n",
    "  io.imshow(image_RGB)\n",
    "  io.show()"
   ]
  },
  {
   "cell_type": "code",
   "execution_count": null,
   "metadata": {},
   "outputs": [],
   "source": [
    "import matplotlib.pyplot as plt\n",
    "%matplotlib inline\n",
    "image_batch,label_batch = train_generator.next()\n",
    "\n",
    "print(len(image_batch))\n",
    "for i in range(0,len(image_batch)):\n",
    "    image = image_batch[i]\n",
    "    print(label_batch[i])\n",
    "    imshow(image)"
   ]
  },
  {
   "cell_type": "code",
   "execution_count": 9,
   "metadata": {},
   "outputs": [
    {
     "name": "stdout",
     "output_type": "stream",
     "text": [
      "Model: \"functional_1\"\n",
      "_________________________________________________________________\n",
      "Layer (type)                 Output Shape              Param #   \n",
      "=================================================================\n",
      "input_1 (InputLayer)         [(None, 32, 32, 3)]       0         \n",
      "_________________________________________________________________\n",
      "block1_conv1 (Conv2D)        (None, 32, 32, 64)        1792      \n",
      "_________________________________________________________________\n",
      "block1_conv2 (Conv2D)        (None, 32, 32, 64)        36928     \n",
      "_________________________________________________________________\n",
      "block1_pool (MaxPooling2D)   (None, 16, 16, 64)        0         \n",
      "_________________________________________________________________\n",
      "block2_conv1 (Conv2D)        (None, 16, 16, 128)       73856     \n",
      "_________________________________________________________________\n",
      "block2_conv2 (Conv2D)        (None, 16, 16, 128)       147584    \n",
      "_________________________________________________________________\n",
      "block2_pool (MaxPooling2D)   (None, 8, 8, 128)         0         \n",
      "_________________________________________________________________\n",
      "block3_conv1 (Conv2D)        (None, 8, 8, 256)         295168    \n",
      "_________________________________________________________________\n",
      "block3_conv2 (Conv2D)        (None, 8, 8, 256)         590080    \n",
      "_________________________________________________________________\n",
      "block3_conv3 (Conv2D)        (None, 8, 8, 256)         590080    \n",
      "_________________________________________________________________\n",
      "block3_conv4 (Conv2D)        (None, 8, 8, 256)         590080    \n",
      "_________________________________________________________________\n",
      "block3_pool (MaxPooling2D)   (None, 4, 4, 256)         0         \n",
      "_________________________________________________________________\n",
      "block4_conv1 (Conv2D)        (None, 4, 4, 512)         1180160   \n",
      "_________________________________________________________________\n",
      "block4_conv2 (Conv2D)        (None, 4, 4, 512)         2359808   \n",
      "_________________________________________________________________\n",
      "block4_conv3 (Conv2D)        (None, 4, 4, 512)         2359808   \n",
      "_________________________________________________________________\n",
      "block4_conv4 (Conv2D)        (None, 4, 4, 512)         2359808   \n",
      "_________________________________________________________________\n",
      "block4_pool (MaxPooling2D)   (None, 2, 2, 512)         0         \n",
      "_________________________________________________________________\n",
      "block5_conv1 (Conv2D)        (None, 2, 2, 512)         2359808   \n",
      "_________________________________________________________________\n",
      "block5_conv2 (Conv2D)        (None, 2, 2, 512)         2359808   \n",
      "_________________________________________________________________\n",
      "block5_conv3 (Conv2D)        (None, 2, 2, 512)         2359808   \n",
      "_________________________________________________________________\n",
      "block5_conv4 (Conv2D)        (None, 2, 2, 512)         2359808   \n",
      "_________________________________________________________________\n",
      "block5_pool (MaxPooling2D)   (None, 1, 1, 512)         0         \n",
      "_________________________________________________________________\n",
      "flatten (Flatten)            (None, 512)               0         \n",
      "_________________________________________________________________\n",
      "dense (Dense)                (None, 512)               262656    \n",
      "_________________________________________________________________\n",
      "dropout (Dropout)            (None, 512)               0         \n",
      "_________________________________________________________________\n",
      "dense_1 (Dense)              (None, 1)                 513       \n",
      "=================================================================\n",
      "Total params: 20,287,553\n",
      "Trainable params: 12,062,209\n",
      "Non-trainable params: 8,225,344\n",
      "_________________________________________________________________\n"
     ]
    }
   ],
   "source": [
    "from tensorflow.keras.applications import VGG19\n",
    "\n",
    "pre_trained_model = VGG19(input_shape=(img_width,img_height,3), include_top=False)#, weights='imagenet')\n",
    "    \n",
    "for layer in pre_trained_model.layers[:15]:\n",
    "    layer.trainable = False\n",
    "\n",
    "for layer in pre_trained_model.layers[15:]:\n",
    "    layer.trainable = True\n",
    "    \n",
    "last_layer = pre_trained_model.get_layer('block5_pool')\n",
    "last_output = last_layer.output\n",
    "x = layers.Flatten()(last_output)\n",
    "x = layers.Dense(512, activation='relu')(x)\n",
    "x = layers.Dropout(0.5)(x)\n",
    "x = layers.Dense(1, activation='sigmoid')(x)\n",
    "\n",
    "vggmodel = tf.keras.models.Model(pre_trained_model.input, x)\n",
    "\n",
    "vggmodel.compile(loss='binary_crossentropy',\n",
    "              optimizer=tf.keras.optimizers.Adam(lr=.0001),\n",
    "              metrics=['accuracy'])\n",
    "\n",
    "vggmodel.summary()"
   ]
  },
  {
   "cell_type": "code",
   "execution_count": 10,
   "metadata": {},
   "outputs": [
    {
     "name": "stdout",
     "output_type": "stream",
     "text": [
      "WARNING:tensorflow:From <ipython-input-10-7bf3c6769b80>:1: Model.fit_generator (from tensorflow.python.keras.engine.training) is deprecated and will be removed in a future version.\n",
      "Instructions for updating:\n",
      "Please use Model.fit, which supports generators.\n",
      "Epoch 1/10\n",
      "100/100 [==============================] - 51s 505ms/step - loss: 0.2836 - accuracy: 0.9112 - val_loss: 0.0581 - val_accuracy: 0.9600\n",
      "Epoch 2/10\n",
      "100/100 [==============================] - 54s 544ms/step - loss: 0.0403 - accuracy: 0.9900 - val_loss: 0.0714 - val_accuracy: 0.9800\n",
      "Epoch 3/10\n",
      "100/100 [==============================] - 50s 500ms/step - loss: 0.0052 - accuracy: 1.0000 - val_loss: 0.0365 - val_accuracy: 0.9900\n",
      "Epoch 4/10\n",
      "100/100 [==============================] - 50s 499ms/step - loss: 4.0444e-05 - accuracy: 1.0000 - val_loss: 0.0593 - val_accuracy: 0.9900\n",
      "Epoch 5/10\n",
      "100/100 [==============================] - 51s 506ms/step - loss: 2.7105e-06 - accuracy: 1.0000 - val_loss: 0.0623 - val_accuracy: 0.9900\n",
      "Epoch 6/10\n",
      "100/100 [==============================] - 52s 521ms/step - loss: 1.2688e-06 - accuracy: 1.0000 - val_loss: 0.0640 - val_accuracy: 0.9900\n",
      "Epoch 7/10\n",
      "100/100 [==============================] - 55s 550ms/step - loss: 5.4847e-07 - accuracy: 1.0000 - val_loss: 0.0667 - val_accuracy: 0.9900\n",
      "Epoch 8/10\n",
      "100/100 [==============================] - 51s 509ms/step - loss: 5.6396e-07 - accuracy: 1.0000 - val_loss: 0.0686 - val_accuracy: 0.9900\n",
      "Epoch 9/10\n",
      "100/100 [==============================] - 54s 538ms/step - loss: 3.8608e-07 - accuracy: 1.0000 - val_loss: 0.0720 - val_accuracy: 0.9900\n",
      "Epoch 10/10\n",
      "100/100 [==============================] - 53s 526ms/step - loss: 7.4208e-07 - accuracy: 1.0000 - val_loss: 0.0776 - val_accuracy: 0.9900\n"
     ]
    }
   ],
   "source": [
    "vgghist=vggmodel.fit_generator(train_generator,epochs=10,\n",
    "                               validation_data=validation_generator)"
   ]
  },
  {
   "cell_type": "code",
   "execution_count": 11,
   "metadata": {},
   "outputs": [],
   "source": [
    "vggmodel.save(\"vgg19model.h5\")"
   ]
  },
  {
   "cell_type": "code",
   "execution_count": 26,
   "metadata": {},
   "outputs": [
    {
     "name": "stdout",
     "output_type": "stream",
     "text": [
      "100/100 - 7s - loss: 1.8778e-07 - accuracy: 1.0000\n",
      "\n",
      "Train Accuracy : 1.0\n"
     ]
    }
   ],
   "source": [
    "train_loss, train_acc = vggmodel.evaluate(train_generator, verbose = 2)\n",
    "print('\\nTrain Accuracy :', train_acc)"
   ]
  },
  {
   "cell_type": "code",
   "execution_count": 11,
   "metadata": {},
   "outputs": [
    {
     "data": {
      "text/plain": [
       "[(None, 32, 32, 3)]"
      ]
     },
     "execution_count": 11,
     "metadata": {},
     "output_type": "execute_result"
    }
   ],
   "source": [
    "import tensorflow as tf\n",
    "load_model = tf.keras.models.load_model('vgg19model.h5')\n",
    "load_model.layers[0].input_shape"
   ]
  },
  {
   "cell_type": "code",
   "execution_count": 12,
   "metadata": {},
   "outputs": [
    {
     "data": {
      "image/png": "[encoded data removed]",
      "text/plain": [
       "<Figure size 432x288 with 1 Axes>"
      ]
     },
     "metadata": {
      "needs_background": "light"
     },
     "output_type": "display_data"
    }
   ],
   "source": [
    "from keras.preprocessing import image\n",
    "image_path=\"4.jpg\"\n",
    "img = image.load_img(image_path, target_size=(32,32))\n",
    "plt.imshow(img)\n",
    "img = np.expand_dims(img, axis=0)\n",
    "result=load_model.predict(img)\n",
    "plt.title((result[0][0]))\n",
    "plt.show()"
   ]
  },
  {
   "cell_type": "code",
   "execution_count": 24,
   "metadata": {},
   "outputs": [],
   "source": [
    "import numpy as np\n",
    "import random\n",
    "from tensorflow.keras.preprocessing.image import img_to_array, load_img"
   ]
  },
  {
   "cell_type": "code",
   "execution_count": 25,
   "metadata": {},
   "outputs": [],
   "source": [
    "#get list of layer from model\n",
    "layer_outputs = [layer.output for layer in vggmodel.layers[1:]]"
   ]
  },
  {
   "cell_type": "code",
   "execution_count": 26,
   "metadata": {},
   "outputs": [],
   "source": [
    "import tensorflow\n",
    "#create visualization model\n",
    "visualize_model = tensorflow.keras.models.Model(inputs=vggmodel.input , outputs = layer_outputs)"
   ]
  },
  {
   "cell_type": "code",
   "execution_count": 27,
   "metadata": {},
   "outputs": [
    {
     "name": "stdout",
     "output_type": "stream",
     "text": [
      "block1_conv1\n",
      "64\n"
     ]
    },
    {
     "data": {
      "image/png": "[encoded data removed]",
      "text/plain": [
       "<Figure size 432x288 with 192 Axes>"
      ]
     },
     "metadata": {},
     "output_type": "display_data"
    },
    {
     "name": "stdout",
     "output_type": "stream",
     "text": [
      "block1_conv2\n",
      "64\n"
     ]
    },
    {
     "data": {
      "image/png": "[encoded data removed]",
      "text/plain": [
       "<Figure size 432x288 with 192 Axes>"
      ]
     },
     "metadata": {},
     "output_type": "display_data"
    },
    {
     "name": "stdout",
     "output_type": "stream",
     "text": [
      "block2_conv1\n",
      "128\n"
     ]
    },
    {
     "data": {
      "image/png": "[encoded data removed]",
      "text/plain": [
       "<Figure size 432x288 with 384 Axes>"
      ]
     },
     "metadata": {},
     "output_type": "display_data"
    },
    {
     "name": "stdout",
     "output_type": "stream",
     "text": [
      "block2_conv2\n",
      "128\n"
     ]
    },
    {
     "data": {
      "image/png": "[encoded data removed]",
      "text/plain": [
       "<Figure size 432x288 with 384 Axes>"
      ]
     },
     "metadata": {},
     "output_type": "display_data"
    },
    {
     "name": "stdout",
     "output_type": "stream",
     "text": [
      "block3_conv1\n",
      "256\n"
     ]
    },
    {
     "data": {
      "image/png": "[encoded data removed]",
      "text/plain": [
       "<Figure size 432x288 with 768 Axes>"
      ]
     },
     "metadata": {},
     "output_type": "display_data"
    },
    {
     "name": "stdout",
     "output_type": "stream",
     "text": [
      "block3_conv2\n",
      "256\n"
     ]
    },
    {
     "data": {
      "image/png": "[encoded data removed]",
      "text/plain": [
       "<Figure size 432x288 with 768 Axes>"
      ]
     },
     "metadata": {},
     "output_type": "display_data"
    },
    {
     "name": "stdout",
     "output_type": "stream",
     "text": [
      "block3_conv3\n",
      "256\n"
     ]
    },
    {
     "data": {
      "image/png": "[encoded data removed]",
      "text/plain": [
       "<Figure size 432x288 with 768 Axes>"
      ]
     },
     "metadata": {},
     "output_type": "display_data"
    },
    {
     "name": "stdout",
     "output_type": "stream",
     "text": [
      "block3_conv4\n",
      "256\n"
     ]
    },
    {
     "data": {
      "image/png": "[encoded data removed]",
      "text/plain": [
       "<Figure size 432x288 with 768 Axes>"
      ]
     },
     "metadata": {},
     "output_type": "display_data"
    },
    {
     "name": "stdout",
     "output_type": "stream",
     "text": [
      "block4_conv1\n",
      "512\n"
     ]
    },
    {
     "data": {
      "image/png": "[encoded data removed]",
      "text/plain": [
       "<Figure size 432x288 with 1536 Axes>"
      ]
     },
     "metadata": {},
     "output_type": "display_data"
    },
    {
     "name": "stdout",
     "output_type": "stream",
     "text": [
      "block4_conv2\n",
      "512\n"
     ]
    },
    {
     "data": {
      "image/png": "[encoded data removed]",
      "text/plain": [
       "<Figure size 432x288 with 1536 Axes>"
      ]
     },
     "metadata": {},
     "output_type": "display_data"
    },
    {
     "name": "stdout",
     "output_type": "stream",
     "text": [
      "block4_conv3\n",
      "512\n"
     ]
    },
    {
     "data": {
      "image/png": "[encoded data removed]",
      "text/plain": [
       "<Figure size 432x288 with 1536 Axes>"
      ]
     },
     "metadata": {},
     "output_type": "display_data"
    },
    {
     "name": "stdout",
     "output_type": "stream",
     "text": [
      "block4_conv4\n",
      "512\n"
     ]
    },
    {
     "data": {
      "image/png": "[encoded data removed]",
      "text/plain": [
       "<Figure size 432x288 with 1536 Axes>"
      ]
     },
     "metadata": {},
     "output_type": "display_data"
    },
    {
     "name": "stdout",
     "output_type": "stream",
     "text": [
      "block5_conv1\n",
      "512\n"
     ]
    },
    {
     "data": {
      "image/png": "[encoded data removed]",
      "text/plain": [
       "<Figure size 432x288 with 1536 Axes>"
      ]
     },
     "metadata": {},
     "output_type": "display_data"
    },
    {
     "name": "stdout",
     "output_type": "stream",
     "text": [
      "block5_conv2\n",
      "512\n"
     ]
    },
    {
     "data": {
      "image/png": "[encoded data removed]",
      "text/plain": [
       "<Figure size 432x288 with 1536 Axes>"
      ]
     },
     "metadata": {},
     "output_type": "display_data"
    },
    {
     "name": "stdout",
     "output_type": "stream",
     "text": [
      "block5_conv3\n",
      "512\n"
     ]
    },
    {
     "data": {
      "image/png": "[encoded data removed]",
      "text/plain": [
       "<Figure size 432x288 with 1536 Axes>"
      ]
     },
     "metadata": {},
     "output_type": "display_data"
    },
    {
     "name": "stdout",
     "output_type": "stream",
     "text": [
      "block5_conv4\n",
      "512\n"
     ]
    },
    {
     "data": {
      "image/png": "[encoded data removed]",
      "text/plain": [
       "<Figure size 432x288 with 1536 Axes>"
      ]
     },
     "metadata": {},
     "output_type": "display_data"
    }
   ],
   "source": [
    "for layer in vggmodel.layers:\n",
    "    if 'conv' in layer.name:\n",
    "        weights, bias= layer.get_weights()\n",
    "        print(layer.name)\n",
    "        \n",
    "        #normalize filter values between  0 and 1 for visualization\n",
    "        f_min, f_max = weights.min(), weights.max()\n",
    "        filters = (weights - f_min) / (f_max - f_min)  \n",
    "        print(filters.shape[3])\n",
    "        filter_cnt=1\n",
    "        \n",
    "        #plotting all the filters\n",
    "        for i in range(filters.shape[3]):\n",
    "            #get the filters\n",
    "            filt=filters[:,:,:, i]\n",
    "            #plotting each of the channel, color image RGB channels\n",
    "            for j in range(filters.shape[0]):\n",
    "                ax= plt.subplot(filters.shape[3], filters.shape[0], filter_cnt  )\n",
    "                ax.set_xticks([])\n",
    "                ax.set_yticks([])\n",
    "                plt.imshow(filt[:,:, j])\n",
    "                filter_cnt+=1\n",
    "        plt.show()"
   ]
  },
  {
   "cell_type": "code",
   "execution_count": null,
   "metadata": {},
   "outputs": [],
   "source": [
    "img_path='mask.3.jpg' #mask\n",
    "# Define a new Model, Input= image \n",
    "# Output= intermediate representations for all layers in the  \n",
    "# previous model after the first.\n",
    "successive_outputs = [layer.output for layer in vggmodel.layers[1:]]\n",
    "#visualization_model = Model(img_input, successive_outputs)\n",
    "#visualization_model = tf.keras.models.Model(inputs = model.input, outputs = successive_outputs)\n",
    "import tensorflow\n",
    "#create visualization model\n",
    "visualization_model = tensorflow.keras.models.Model(inputs=vggmodel.input , outputs = layer_outputs)\n",
    "#Load the input image\n",
    "img = load_img(img_path, target_size=(32, 32))\n",
    "# Convert ht image to Array of dimension (150,150,3)\n",
    "x   = img_to_array(img)                           \n",
    "x   = x.reshape((1,) + x.shape)\n",
    "# Rescale by 1/255\n",
    "x /= 255.0\n",
    "# Let's run input image through our vislauization network\n",
    "# to obtain all intermediate representations for the image.\n",
    "successive_feature_maps = visualization_model.predict(x)\n",
    "# Retrieve are the names of the layers, so can have them as part of our plot\n",
    "layer_names = [layer.name for layer in vggmodel.layers]\n",
    "for layer_name, feature_map in zip(layer_names, successive_feature_maps):\n",
    "  print(feature_map.shape)\n",
    "  if len(feature_map.shape) == 4:\n",
    "    \n",
    "    # Plot Feature maps for the conv / maxpool layers, not the fully-connected layers\n",
    "   \n",
    "    n_features = feature_map.shape[-1]  # number of features in the feature map\n",
    "    size       = feature_map.shape[ 1]  # feature map shape (1, size, size, n_features)\n",
    "    \n",
    "    # We will tile our images in this matrix\n",
    "    display_grid = np.zeros((size, size * n_features))\n",
    "    \n",
    "    # Postprocess the feature to be visually palatable\n",
    "    for i in range(n_features):\n",
    "      x  = feature_map[0, :, :, i]\n",
    "      x -= x.mean()\n",
    "      x /= x.std ()\n",
    "      x *=  64\n",
    "      x += 128\n",
    "      x  = np.clip(x, 0, 255).astype('uint8')\n",
    "      # Tile each filter into a horizontal grid\n",
    "      display_grid[:, i * size : (i + 1) * size] = x\n",
    "# Display the grid\n",
    "    scale = 20. / n_features\n",
    "    plt.figure( figsize=(scale * n_features, scale) )\n",
    "    plt.title ( layer_name )\n",
    "    plt.grid  ( False )\n",
    "    plt.imshow( display_grid, aspect='auto', cmap='viridis' )"
   ]
  },
  {
   "cell_type": "code",
   "execution_count": 12,
   "metadata": {},
   "outputs": [
    {
     "data": {
      "image/png": "[encoded data removed]",
      "text/plain": [
       "<Figure size 432x288 with 1 Axes>"
      ]
     },
     "metadata": {},
     "output_type": "display_data"
    }
   ],
   "source": [
    "# plot the training loss and accuracy\n",
    "N = epochs\n",
    "plt.style.use(\"ggplot\")\n",
    "plt.figure()\n",
    "plt.plot(np.arange(0, N), vgghist.history[\"loss\"], label=\"train_loss\")\n",
    "plt.plot(np.arange(0, N), vgghist.history[\"val_loss\"], label=\"val_loss\")\n",
    "plt.plot(np.arange(0, N), vgghist.history[\"accuracy\"], label=\"train_acc\")\n",
    "plt.plot(np.arange(0, N), vgghist.history[\"val_accuracy\"], label=\"val_acc\")\n",
    "plt.title(\"Training Loss and Accuracy\")\n",
    "plt.xlabel(\"Epoch #\")\n",
    "plt.ylabel(\"Loss/Accuracy\")\n",
    "plt.legend(loc=\"lower left\")\n",
    "plt.savefig(\"plot.png\")"
   ]
  },
  {
   "cell_type": "code",
   "execution_count": 13,
   "metadata": {},
   "outputs": [
    {
     "name": "stdout",
     "output_type": "stream",
     "text": [
      "dict_keys(['loss', 'accuracy', 'val_loss', 'val_accuracy'])\n"
     ]
    },
    {
     "data": {
      "image/png": "[encoded data removed]",
      "text/plain": [
       "<Figure size 432x288 with 1 Axes>"
      ]
     },
     "metadata": {
      "needs_background": "light"
     },
     "output_type": "display_data"
    },
    {
     "data": {
      "image/png": "[encoded data removed]",
      "text/plain": [
       "<Figure size 432x288 with 1 Axes>"
      ]
     },
     "metadata": {
      "needs_background": "light"
     },
     "output_type": "display_data"
    }
   ],
   "source": [
    "import matplotlib.pyplot as plt\n",
    "%matplotlib inline\n",
    "\n",
    "# list all data in history\n",
    "print(vgghist.history.keys())\n",
    "# summarize history for accuracy\n",
    "plt.plot(vgghist.history['accuracy'],label='accuracy ')\n",
    "plt.plot(vgghist.history['val_accuracy'],label = 'val_accuracy')\n",
    "plt.title('model accuracy')\n",
    "plt.ylabel('accuracy')\n",
    "plt.xlabel('epoch')\n",
    "plt.legend(loc='lower right')\n",
    "plt.show()\n",
    "\n",
    "# summarize history for loss\n",
    "plt.plot(vgghist.history['loss'], label = 'loss')\n",
    "plt.plot(vgghist.history['val_loss'], label = 'val_loss')\n",
    "plt.title('model loss')\n",
    "plt.ylabel('loss')\n",
    "plt.xlabel('epoch')\n",
    "plt.legend(loc='lower right')\n",
    "plt.show()"
   ]
  },
  {
   "cell_type": "code",
   "execution_count": 27,
   "metadata": {},
   "outputs": [
    {
     "name": "stdout",
     "output_type": "stream",
     "text": [
      "['mask', 'nomask']\n"
     ]
    }
   ],
   "source": [
    "#Print the Target names\n",
    "\n",
    "target_names = []\n",
    "for key in test_generator.class_indices:\n",
    "    target_names.append(key)\n",
    "\n",
    "print(target_names)"
   ]
  },
  {
   "cell_type": "code",
   "execution_count": 28,
   "metadata": {},
   "outputs": [],
   "source": [
    "#Plot the confusion matrix. Set Normalize = True/False\n",
    "\n",
    "def plot_confusion_matrix(cm, classes, normalize=True, title='Confusion matrix', cmap=plt.cm.Blues):\n",
    "    \"\"\"\n",
    "    This function prints and plots the confusion matrix.\n",
    "    Normalization can be applied by setting `normalize=True`.\n",
    "    \"\"\"\n",
    "    plt.figure(figsize=(5,5))\n",
    "\n",
    "    plt.imshow(cm, interpolation='nearest', cmap=cmap)\n",
    "    plt.title(title)\n",
    "    plt.colorbar()\n",
    "\n",
    "    tick_marks = np.arange(len(classes))\n",
    "    plt.xticks(tick_marks, classes, rotation=45)\n",
    "    plt.yticks(tick_marks, classes)\n",
    "\n",
    "    #if normalize:\n",
    "        #cm = cm.astype('float') / cm.sum(axis=1)[:, np.newaxis]\n",
    "        #cm = np.around(cm, decimals=2)\n",
    "        #cm[np.isnan(cm)] = 0.0\n",
    "        #print(\"Normalized confusion matrix\")\n",
    "    #else:\n",
    "        #print('Confusion matrix, without normalization')\n",
    "    thresh = cm.max() / 2.\n",
    "    for i, j in itertools.product(range(cm.shape[0]), range(cm.shape[1])):\n",
    "        plt.text(j, i, cm[i, j],\n",
    "                 horizontalalignment=\"center\",\n",
    "                 color=\"cyan\" if cm[i, j] > thresh else \"black\")\n",
    "    plt.tight_layout()\n",
    "    plt.ylabel('True label')\n",
    "    plt.xlabel('Predicted label')"
   ]
  },
  {
   "cell_type": "code",
   "execution_count": 33,
   "metadata": {},
   "outputs": [
    {
     "name": "stdout",
     "output_type": "stream",
     "text": [
      "Classification Report\n",
      "              precision    recall  f1-score   support\n",
      "\n",
      "        mask       0.50      1.00      0.67        50\n",
      "      nomask       0.00      0.00      0.00        50\n",
      "\n",
      "    accuracy                           0.50       100\n",
      "   macro avg       0.25      0.50      0.33       100\n",
      "weighted avg       0.25      0.50      0.33       100\n",
      "\n"
     ]
    },
    {
     "name": "stderr",
     "output_type": "stream",
     "text": [
      "C:\\Users\\ivana\\ANACONDAAJAH\\envs\\Tensorflow\\lib\\site-packages\\sklearn\\metrics\\_classification.py:1248: UndefinedMetricWarning: Precision and F-score are ill-defined and being set to 0.0 in labels with no predicted samples. Use `zero_division` parameter to control this behavior.\n",
      "  _warn_prf(average, modifier, msg_start, len(result))\n",
      "C:\\Users\\ivana\\ANACONDAAJAH\\envs\\Tensorflow\\lib\\site-packages\\sklearn\\metrics\\_classification.py:1248: UndefinedMetricWarning: Precision and F-score are ill-defined and being set to 0.0 in labels with no predicted samples. Use `zero_division` parameter to control this behavior.\n",
      "  _warn_prf(average, modifier, msg_start, len(result))\n",
      "C:\\Users\\ivana\\ANACONDAAJAH\\envs\\Tensorflow\\lib\\site-packages\\sklearn\\metrics\\_classification.py:1248: UndefinedMetricWarning: Precision and F-score are ill-defined and being set to 0.0 in labels with no predicted samples. Use `zero_division` parameter to control this behavior.\n",
      "  _warn_prf(average, modifier, msg_start, len(result))\n"
     ]
    }
   ],
   "source": [
    "#Confution Matrix \n",
    "from sklearn.metrics import classification_report, confusion_matrix\n",
    "import itertools  \n",
    "\n",
    "#predictedClasses = np.where(predictions>0.5, 1, 0) instead of np.argmax(Y_pred, axis=1)\n",
    "Y_pred = vggmodel.predict(test_generator)\n",
    "#y_pred = np.where(Y_pred>0.5,0,1)\n",
    "y_pred = np.argmax(Y_pred, axis=1)\n",
    "print('Classification Report')\n",
    "print(classification_report(test_generator.classes, y_pred, target_names=target_names))"
   ]
  },
  {
   "cell_type": "code",
   "execution_count": 79,
   "metadata": {},
   "outputs": [
    {
     "data": {
      "text/plain": [
       "'              precision    recall  f1-score   support\\n\\n        mask       1.00      0.98      0.99        50\\n      nomask       0.98      1.00      0.99        50\\n\\n    accuracy                           0.99       100\\n   macro avg       0.99      0.99      0.99       100\\nweighted avg       0.99      0.99      0.99       100\\n'"
      ]
     },
     "execution_count": 79,
     "metadata": {},
     "output_type": "execute_result"
    }
   ],
   "source": [
    "import sklearn\n",
    "sklearn.metrics.classification_report(test_generator.classes, y_pred, labels=None, target_names=target_names)"
   ]
  },
  {
   "cell_type": "code",
   "execution_count": 56,
   "metadata": {},
   "outputs": [
    {
     "data": {
      "image/png": "[encoded data removed]",
      "text/plain": [
       "<Figure size 360x360 with 2 Axes>"
      ]
     },
     "metadata": {
      "needs_background": "light"
     },
     "output_type": "display_data"
    }
   ],
   "source": [
    "from sklearn.metrics import classification_report, confusion_matrix\n",
    "import itertools \n",
    "Y_pred = vggmodel.predict_generator(test_generator)\n",
    "y_pred = np.where(Y_pred>0.5,1,0)\n",
    "cm = confusion_matrix(test_generator.classes, y_pred)\n",
    "plot_confusion_matrix(cm, target_names, title='Confusion Matrix')\n"
   ]
  },
  {
   "cell_type": "code",
   "execution_count": 57,
   "metadata": {},
   "outputs": [
    {
     "name": "stdout",
     "output_type": "stream",
     "text": [
      "['mask.0.jpeg', 'mask.1.jpeg', 'mask.10.jpeg', 'mask.11.jpeg', 'mask.12.jpeg', 'mask.13.jpeg', 'mask.14.jpeg', 'mask.15.jpeg', 'mask.16.jpeg', 'mask.17.jpeg', 'mask.18.jpeg', 'mask.19.jpeg', 'mask.2.jpeg', 'mask.20.jpeg', 'mask.21.jpeg', 'mask.22.jpeg', 'mask.23.jpeg', 'mask.24.jpeg', 'mask.25.jpeg', 'mask.26.jpeg', 'mask.27.jpeg', 'mask.28.jpeg', 'mask.29.jpeg', 'mask.3.jpeg', 'mask.30.jpeg', 'mask.31.jpeg', 'mask.32.jpeg', 'mask.33.jpeg', 'mask.34.jpeg', 'mask.35.jpeg', 'mask.36.jpeg', 'mask.37.jpeg', 'mask.38.jpeg', 'mask.39.jpeg', 'mask.4.jpeg', 'mask.40.jpeg', 'mask.41.jpeg', 'mask.42.jpeg', 'mask.43.jpeg', 'mask.44.jpeg', 'mask.45.jpeg', 'mask.46.jpeg', 'mask.47.jpeg', 'mask.48.jpeg', 'mask.49.jpeg', 'mask.5.jpeg', 'mask.6.jpeg', 'mask.7.jpeg', 'mask.8.jpeg', 'mask.9.jpeg']\n"
     ]
    }
   ],
   "source": [
    "## Now Predict\n",
    "from os import listdir\n",
    "from os.path import isfile, join\n",
    "predict_dir_path='facemask801010/test/mask/'\n",
    "onlyfiles = [f for f in listdir(predict_dir_path) if isfile(join(predict_dir_path, f))]\n",
    "print(onlyfiles)"
   ]
  },
  {
   "cell_type": "code",
   "execution_count": 58,
   "metadata": {},
   "outputs": [
    {
     "name": "stdout",
     "output_type": "stream",
     "text": [
      "mask.0.jpeg: mask\n",
      "mask.1.jpeg: mask\n",
      "mask.10.jpeg: mask\n",
      "mask.11.jpeg: mask\n",
      "mask.12.jpeg: mask\n",
      "mask.13.jpeg: mask\n",
      "mask.14.jpeg: mask\n",
      "mask.15.jpeg: mask\n",
      "mask.16.jpeg: mask\n",
      "mask.17.jpeg: mask\n",
      "mask.18.jpeg: mask\n",
      "mask.19.jpeg: mask\n",
      "mask.2.jpeg: mask\n",
      "mask.20.jpeg: mask\n",
      "mask.21.jpeg: mask\n",
      "mask.22.jpeg: mask\n",
      "mask.23.jpeg: mask\n",
      "mask.24.jpeg: mask\n",
      "mask.25.jpeg: mask\n",
      "mask.26.jpeg: mask\n",
      "mask.27.jpeg: mask\n",
      "mask.28.jpeg: mask\n",
      "mask.29.jpeg: mask\n",
      "mask.3.jpeg: mask\n",
      "mask.30.jpeg: mask\n",
      "mask.31.jpeg: mask\n",
      "mask.32.jpeg: mask\n",
      "mask.33.jpeg: mask\n",
      "mask.34.jpeg: mask\n",
      "mask.35.jpeg: mask\n",
      "mask.36.jpeg: mask\n",
      "mask.37.jpeg: mask\n",
      "mask.38.jpeg: mask\n",
      "mask.39.jpeg: mask\n",
      "mask.4.jpeg: mask\n",
      "mask.40.jpeg: mask\n",
      "mask.41.jpeg: mask\n",
      "mask.42.jpeg: mask\n",
      "mask.43.jpeg: mask\n",
      "mask.44.jpeg: mask\n",
      "mask.45.jpeg: mask\n",
      "mask.46.jpeg: mask\n",
      "mask.47.jpeg: mask\n",
      "mask.48.jpeg: mask\n",
      "mask.49.jpeg: mask\n",
      "mask.5.jpeg: mask\n",
      "mask.6.jpeg: mask\n",
      "mask.7.jpeg: mask\n",
      "mask.8.jpeg: mask\n",
      "mask.9.jpeg: mask\n",
      "Total Mask : 50\n",
      "Total Nomask : 0\n"
     ]
    }
   ],
   "source": [
    "from keras.preprocessing import image\n",
    "mask_counter = 0 \n",
    "nomask_counter  = 0\n",
    "for file in onlyfiles:\n",
    "    img = image.load_img(predict_dir_path+file, target_size=(img_width, img_height))\n",
    "    x = image.img_to_array(img)\n",
    "    x = np.expand_dims(x, axis=0)\n",
    "    \n",
    "    images = np.vstack([x])\n",
    "    classes = vggmodel.predict(images, batch_size=10)\n",
    "    classes = classes[0][0]\n",
    "    \n",
    "    if classes == 0:\n",
    "        print(file + \": \" + 'mask')\n",
    "        mask_counter += 1\n",
    "    else:\n",
    "        print(file + \": \" + 'nomask')\n",
    "        nomask_counter += 1\n",
    "print(\"Total Mask :\",mask_counter)\n",
    "print(\"Total Nomask :\",nomask_counter)"
   ]
  },
  {
   "cell_type": "code",
   "execution_count": 59,
   "metadata": {},
   "outputs": [
    {
     "name": "stdout",
     "output_type": "stream",
     "text": [
      "['nomask.0.jpeg', 'nomask.1.jpeg', 'nomask.10.jpeg', 'nomask.11.jpeg', 'nomask.12.jpeg', 'nomask.13.jpeg', 'nomask.14.jpeg', 'nomask.15.jpeg', 'nomask.16.jpeg', 'nomask.17.jpeg', 'nomask.18.jpeg', 'nomask.19.jpeg', 'nomask.2.jpeg', 'nomask.20.jpeg', 'nomask.21.jpeg', 'nomask.22.jpeg', 'nomask.23.jpeg', 'nomask.24.jpeg', 'nomask.25.jpeg', 'nomask.26.jpeg', 'nomask.27.jpeg', 'nomask.28.jpeg', 'nomask.29.jpeg', 'nomask.3.jpeg', 'nomask.30.jpeg', 'nomask.31.jpeg', 'nomask.32.jpeg', 'nomask.33.jpeg', 'nomask.34.jpeg', 'nomask.35.jpeg', 'nomask.36.jpeg', 'nomask.37.jpeg', 'nomask.38.jpeg', 'nomask.39.jpeg', 'nomask.4.jpeg', 'nomask.40.jpeg', 'nomask.41.jpeg', 'nomask.42.jpeg', 'nomask.43.jpeg', 'nomask.44.jpeg', 'nomask.45.jpeg', 'nomask.46.jpeg', 'nomask.47.jpeg', 'nomask.48.jpeg', 'nomask.49.jpeg', 'nomask.5.jpeg', 'nomask.6.jpeg', 'nomask.7.jpeg', 'nomask.8.jpeg', 'nomask.9.jpeg']\n"
     ]
    }
   ],
   "source": [
    "## Now Predict\n",
    "from os import listdir\n",
    "from os.path import isfile, join\n",
    "predict_dir_path='facemask801010/test/nomask/'\n",
    "onlyfiles = [f for f in listdir(predict_dir_path) if isfile(join(predict_dir_path, f))]\n",
    "print(onlyfiles)"
   ]
  },
  {
   "cell_type": "code",
   "execution_count": 60,
   "metadata": {},
   "outputs": [
    {
     "name": "stdout",
     "output_type": "stream",
     "text": [
      "nomask.0.jpeg: mask\n",
      "nomask.1.jpeg: nomask\n",
      "nomask.10.jpeg: nomask\n",
      "nomask.11.jpeg: nomask\n",
      "nomask.12.jpeg: nomask\n",
      "nomask.13.jpeg: nomask\n",
      "nomask.14.jpeg: nomask\n",
      "nomask.15.jpeg: nomask\n",
      "nomask.16.jpeg: nomask\n",
      "nomask.17.jpeg: nomask\n",
      "nomask.18.jpeg: nomask\n",
      "nomask.19.jpeg: nomask\n",
      "nomask.2.jpeg: nomask\n",
      "nomask.20.jpeg: nomask\n",
      "nomask.21.jpeg: nomask\n",
      "nomask.22.jpeg: nomask\n",
      "nomask.23.jpeg: nomask\n",
      "nomask.24.jpeg: mask\n",
      "nomask.25.jpeg: nomask\n",
      "nomask.26.jpeg: nomask\n",
      "nomask.27.jpeg: nomask\n",
      "nomask.28.jpeg: mask\n",
      "nomask.29.jpeg: nomask\n",
      "nomask.3.jpeg: nomask\n",
      "nomask.30.jpeg: nomask\n",
      "nomask.31.jpeg: nomask\n",
      "nomask.32.jpeg: nomask\n",
      "nomask.33.jpeg: nomask\n",
      "nomask.34.jpeg: nomask\n",
      "nomask.35.jpeg: nomask\n",
      "nomask.36.jpeg: nomask\n",
      "nomask.37.jpeg: nomask\n",
      "nomask.38.jpeg: nomask\n",
      "nomask.39.jpeg: nomask\n",
      "nomask.4.jpeg: nomask\n",
      "nomask.40.jpeg: nomask\n",
      "nomask.41.jpeg: nomask\n",
      "nomask.42.jpeg: nomask\n",
      "nomask.43.jpeg: nomask\n",
      "nomask.44.jpeg: nomask\n",
      "nomask.45.jpeg: nomask\n",
      "nomask.46.jpeg: mask\n",
      "nomask.47.jpeg: nomask\n",
      "nomask.48.jpeg: nomask\n",
      "nomask.49.jpeg: mask\n",
      "nomask.5.jpeg: nomask\n",
      "nomask.6.jpeg: nomask\n",
      "nomask.7.jpeg: nomask\n",
      "nomask.8.jpeg: nomask\n",
      "nomask.9.jpeg: nomask\n",
      "Total Mask : 5\n",
      "Total Nomask : 45\n"
     ]
    }
   ],
   "source": [
    "from keras.preprocessing import image\n",
    "mask_counter = 0 \n",
    "nomask_counter  = 0\n",
    "for file in onlyfiles:\n",
    "    img = image.load_img(predict_dir_path+file, target_size=(img_width, img_height))\n",
    "    x = image.img_to_array(img)\n",
    "    x = np.expand_dims(x, axis=0)\n",
    "    \n",
    "    images = np.vstack([x])\n",
    "    classes = vggmodel.predict(images, batch_size=10)\n",
    "    classes = classes[0][0]\n",
    "    \n",
    "    if classes == 0:\n",
    "        print(file + \": \" + 'mask')\n",
    "        mask_counter += 1\n",
    "    else:\n",
    "        print(file + \": \" + 'nomask')\n",
    "        nomask_counter += 1\n",
    "print(\"Total Mask :\",mask_counter)\n",
    "print(\"Total Nomask :\",nomask_counter)"
   ]
  },
  {
   "cell_type": "code",
   "execution_count": 25,
   "metadata": {},
   "outputs": [
    {
     "name": "stdout",
     "output_type": "stream",
     "text": [
      "['7384aef5-e918-48f0-a8da-36b99c78116d.jpeg', 'download (1).jpg', 'download.jpg', 'predict2.png']\n"
     ]
    }
   ],
   "source": [
    "## Now Predict\n",
    "from os import listdir\n",
    "from os.path import isfile, join\n",
    "predict_dir_path='facemask801010/coba/'\n",
    "onlyfiles = [f for f in listdir(predict_dir_path) if isfile(join(predict_dir_path, f))]\n",
    "print(onlyfiles)"
   ]
  },
  {
   "cell_type": "code",
   "execution_count": 26,
   "metadata": {},
   "outputs": [
    {
     "name": "stdout",
     "output_type": "stream",
     "text": [
      "7384aef5-e918-48f0-a8da-36b99c78116d.jpeg: mask\n",
      "download (1).jpg: mask\n",
      "download.jpg: mask\n",
      "predict2.png: mask\n",
      "Total Mask : 4\n",
      "Total Nomask : 0\n"
     ]
    }
   ],
   "source": [
    "from keras.preprocessing import image\n",
    "mask_counter = 0 \n",
    "nomask_counter  = 0\n",
    "for file in onlyfiles:\n",
    "    img = image.load_img(predict_dir_path+file, target_size=(img_width, img_height))\n",
    "    x = image.img_to_array(img)\n",
    "    x = np.expand_dims(x, axis=0)\n",
    "    \n",
    "    images = np.vstack([x])\n",
    "    classes = vggmodel.predict(images, batch_size=10)\n",
    "    classes = classes[0][0]\n",
    "    \n",
    "    if classes == 0:\n",
    "        print(file + \": \" + 'mask')\n",
    "        mask_counter += 1\n",
    "    else:\n",
    "        print(file + \": \" + 'nomask')\n",
    "        nomask_counter += 1\n",
    "print(\"Total Mask :\",mask_counter)\n",
    "print(\"Total Nomask :\",nomask_counter)"
   ]
  },
  {
   "cell_type": "code",
   "execution_count": null,
   "metadata": {},
   "outputs": [],
   "source": []
  }
 ],
 "metadata": {
  "kernelspec": {
   "display_name": "Python 3",
   "language": "python",
   "name": "python3"
  },
  "language_info": {
   "codemirror_mode": {
    "name": "ipython",
    "version": 3
   },
   "file_extension": ".py",
   "mimetype": "text/x-python",
   "name": "python",
   "nbconvert_exporter": "python",
   "pygments_lexer": "ipython3",
   "version": "3.8.10"
  }
 },
 "nbformat": 4,
 "nbformat_minor": 4
}
